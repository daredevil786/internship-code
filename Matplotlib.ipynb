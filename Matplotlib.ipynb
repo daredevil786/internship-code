
Visualising Data
The purpose of scientific computation is insight not numbers: To understand the meaning of the (many) numbers we compute, we often need postprocessing, statistical analysis and graphical visualisation of our data. The following sections describe

Matplotlib/Pylab — which allows us to generate high quality graphs of the type y = f(x) (and a bit more)

Visual Python — which is a very handy tool to quickly generate animations of time dependent processes taking place in 3d space.

What is matplotlib?
Matplotlib is the most popular and mature library for plotting data using Python. It has all of the functionality you would expect, including the ability to control the formatting of plots and figures at a very fine level.

The official matplotlib documentation is at http://matplotlib.org/
The matplotlib gallery is at http://matplotlib.org/gallery.html

Importing Matplotlib
Just as we use the np shorthand for NumPy and the pd shorthand for Pandas, we will use some standard shorthands for Matplotlib imports:

In [ ]:
import matplotlib as mpl
import matplotlib.pyplot as plt
import numpy as np
import pandas as pd
The plt interface is what we will use most often, as we shall see throughout this chapter.

First Plot
In [ ]:
plt.plot(np.random.normal(size=200), np.random.normal(size=200), 'o')
Out[ ]:
[<matplotlib.lines.Line2D at 0x7fa19eef3ad0>]

show() or No show()? How to Display Your Plots
A visualization you can't see won't be of much use, but just how you view your Matplotlib plots depends on the context.

Plotting from an IPython notebook
Plotting interactively within an IPython notebook can be done with the %matplotlib command, and works in a similar way to the IPython shell. In the IPython notebook, you also have the option of embedding graphics directly in the notebook, with two possible options:

%matplotlib notebook will lead to interactive plots embedded within the notebook
%matplotlib inline will lead to static images of your plot embedded in the notebook
For this book, we will generally opt for %matplotlib inline:

In [ ]:
%matplotlib inline
After running this command (it needs to be done only once per kernel/session), any cell within the notebook that creates a plot will embed a PNG image of the resulting graphic:

In [ ]:
plt.plot(np.random.normal(size=200), np.random.normal(size=200), 'd')
Out[ ]:
[<matplotlib.lines.Line2D at 0x7fa19ee414d0>]

Plotting in Pandas
On the other hand, Pandas includes methods for DataFrame and Series objects that are relatively high-level, and that make reasonable assumptions about how the plot should look.

In [ ]:
normals = pd.Series(np.random.normal(size=30))
print(normals)
normals.plot()
0    -0.496627
1     0.179077
2     0.666265
3     0.035284
4    -0.279730
5     0.197887
6    -0.302314
7     0.164600
8    -1.274850
9     1.562306
10    0.257460
11    2.302049
12    0.911026
13   -0.574284
14   -1.654853
15    0.147046
16   -0.379062
17   -0.292492
18    1.277433
19   -0.612721
20    0.267832
21   -0.875713
22    0.488882
23    1.123373
24    1.640664
25   -0.158936
26   -0.952071
27    1.232884
28   -0.415542
29   -1.043353
dtype: float64
Out[ ]:
<matplotlib.axes._subplots.AxesSubplot at 0x7fa19f0ccf90>

Notice that by default a line plot is drawn, and a light grid is included. All of this can be changed, however:

In [ ]:
normals.cumsum().plot(grid=True)
Out[ ]:
<matplotlib.axes._subplots.AxesSubplot at 0x7fa19f19ce50>

Similarly, for a DataFrame:

In [ ]:
variables = pd.DataFrame({'normal': np.random.normal(size=10), 
                       'gamma': np.random.gamma(1, size=10), 
                       'poisson': np.random.poisson(size=10)})
print(variables)

variables.cumsum(0).plot()
     normal     gamma  poisson
0 -1.620165  0.112420        2
1  0.171848  0.222811        0
2  1.109520  0.199852        0
3  0.571882  0.016625        0
4  0.229254  2.230363        2
5 -0.989939  1.725702        2
6  0.054385  0.189016        0
7  0.035412  0.355337        0
8 -1.314397  1.225271        0
9  1.242691  1.701388        2
Out[ ]:
<matplotlib.axes._subplots.AxesSubplot at 0x7fa19f26abd0>

As an illustration of the high-level nature of Pandas plots, we can split multiple series into subplots with single argument per plot:

In [ ]:
variables.cumsum(0).plot(subplots=True)
Out[ ]:
array([<matplotlib.axes._subplots.AxesSubplot object at 0x7fa19f348610>,
       <matplotlib.axes._subplots.AxesSubplot object at 0x7fa19f384690>,
       <matplotlib.axes._subplots.AxesSubplot object at 0x7fa19f422d10>],
      dtype=object)

Or, we may want to have some series displayed on the secondary y-axis, which can allow for greater detail and less empty space:

In [ ]:
variables.cumsum(0).plot(secondary_y='normal')
Out[ ]:
<matplotlib.axes._subplots.AxesSubplot at 0x7fa19f4fcd90>

If we would prefer slightly more control, we can use matplotlib's subplots function directly, and manually assign plots to its axes:

In [ ]:
fig, axes = plt.subplots(nrows=3, ncols=1, figsize=(4, 12))
for i,var in enumerate(['normal','gamma','poisson']):
    variables[var].cumsum(0).plot(ax=axes[i], title=var)
axes[0].set_ylabel('cumulative sum')
Out[ ]:
Text(0, 0.5, 'cumulative sum')

Saving Figures to File
One pleasing feature of Matplotlib is the ability to save figures in a wide variety of formats. Saving a figure can be done using the savefig() command. For example, to save the previous figure as a PNG file, you can run this:

In [ ]:
fig.savefig('figure.png')
We now have a file called my_figure.png in the current working directory:

In [ ]:
!ls -lh figure.png
-rw-r--r--  1 rayan  staff    24K Jun 24 16:43 figure.png
To confirm that it contains what we think it contains, let's use the IPython Image object to display the contents of this file:

In [ ]:
from IPython.display import Image
Image('figure.png')
Out[ ]:

In savefig(), the file format is inferred from the extension of the given filename. Depending on what you have installed in the backend, various distinctive file formats are available. The list of supported file types can be found for your system by using the following method of the figure canvas object:

In [ ]:
fig.canvas.get_supported_filetypes()
Out[ ]:
{'ps': 'Postscript',
 'eps': 'Encapsulated Postscript',
 'pdf': 'Portable Document Format',
 'pgf': 'PGF code for LaTeX',
 'png': 'Portable Network Graphics',
 'raw': 'Raw RGBA bitmap',
 'rgba': 'Raw RGBA bitmap',
 'svg': 'Scalable Vector Graphics',
 'svgz': 'Scalable Vector Graphics',
 'jpg': 'Joint Photographic Experts Group',
 'jpeg': 'Joint Photographic Experts Group',
 'tif': 'Tagged Image File Format',
 'tiff': 'Tagged Image File Format'}
Note that when saving your figure, it's not necessary to use plt.show() or related commands discussed earlier.

Object-oriented interface
The object-oriented interface is available for these complicated situations, and whenever there is needa of slightly more control over your figure. Rather than depending on some notion of an "active" figure or axes, in the object-oriented interface the plotting functions are methods of explicit Figure and Axes objects.

Simple Line Plots
Perhaps the simplest of all plots is the visualization of a single function $y = f(x)$. Here we will take a first look at creating a simple plot of this type.

In [ ]:
fig = plt.figure()
ax = plt.axes()

s = np.linspace(0, 20, 100)
print(s)
ax.plot(s, np.sin(s));
[ 0.          0.2020202   0.4040404   0.60606061  0.80808081  1.01010101
  1.21212121  1.41414141  1.61616162  1.81818182  2.02020202  2.22222222
  2.42424242  2.62626263  2.82828283  3.03030303  3.23232323  3.43434343
  3.63636364  3.83838384  4.04040404  4.24242424  4.44444444  4.64646465
  4.84848485  5.05050505  5.25252525  5.45454545  5.65656566  5.85858586
  6.06060606  6.26262626  6.46464646  6.66666667  6.86868687  7.07070707
  7.27272727  7.47474747  7.67676768  7.87878788  8.08080808  8.28282828
  8.48484848  8.68686869  8.88888889  9.09090909  9.29292929  9.49494949
  9.6969697   9.8989899  10.1010101  10.3030303  10.50505051 10.70707071
 10.90909091 11.11111111 11.31313131 11.51515152 11.71717172 11.91919192
 12.12121212 12.32323232 12.52525253 12.72727273 12.92929293 13.13131313
 13.33333333 13.53535354 13.73737374 13.93939394 14.14141414 14.34343434
 14.54545455 14.74747475 14.94949495 15.15151515 15.35353535 15.55555556
 15.75757576 15.95959596 16.16161616 16.36363636 16.56565657 16.76767677
 16.96969697 17.17171717 17.37373737 17.57575758 17.77777778 17.97979798
 18.18181818 18.38383838 18.58585859 18.78787879 18.98989899 19.19191919
 19.39393939 19.5959596  19.7979798  20.        ]

Alternatively, we can use the pylab interface and let the figure and axes be created for us in the background:

In [ ]:
plt.plot(s, np.sin(s))
Out[ ]:
[<matplotlib.lines.Line2D at 0x7fa1a0608610>]

That's all there is to plotting simple functions in Matplotlib! We'll now dive into some more details about how to control the appearance of the axes and lines.

Line Colors and Styles
The first adjustment you might wish to make to a plot is to control the line colors and styles. The plt.plot() function takes additional arguments that can be used to specify these. To adjust the color, you can use the color keyword, which accepts a string argument representing virtually any imaginable color. The color can be specified in a variety of ways:

In [ ]:
plt.plot(s, np.sin(s - 0), color='red')        
plt.plot(s, np.sin(s - 1), color='y')           
plt.plot(s, np.sin(s - 2), color='0.55')
Out[ ]:
[<matplotlib.lines.Line2D at 0x7fa1a0b12cd0>]

If no color is specified, Matplotlib will automatically cycle through a set of default colors for multiple lines.

Similarly, the line style can be adjusted using the linestyle keyword:

In [ ]:
plt.plot(s, np.sin(s - 0), linestyle='-')        
plt.plot(s, np.sin(s - 1), linestyle=':')           
plt.plot(s, np.sin(s - 2), linestyle='-.')
Out[ ]:
[<matplotlib.lines.Line2D at 0x7fa1a0bf50d0>]

Adjusting the Plot: Axes Limits
Matplotlib does a decent job of choosing default axes limits for your plot, but sometimes it's advised to have finer control. The most basic way to adjust axis limits is to use the plt.xlim() and plt.ylim() methods:

In [ ]:
plt.plot(s, np.sin(s - 0))

plt.xlim(-1, 15)
plt.ylim(-2, 2);

For more information on axis limits and other capabilities of the plt.axis method, refer to the plt.axis docstring.

Labeling Plots
As the last piece of this section, we'll briefly look at the labelling of plots: titles, axis labels, and simple legends.

Titles and axis labels are the simplest such labels—there are methods that can be used to quickly set them:

In [ ]:
plt.plot(s, np.cos(s))
plt.title("Cosine Curve")
plt.xlabel("x")
plt.ylabel("cos(x)")
Out[ ]:
Text(0, 0.5, 'cos(x)')

The position, size, and style of these labels can be adjusted using optional arguments to the function. For more information, see the Matplotlib documentation and the docstrings of each of these functions.

Simple Scatter Plots
Another commonly used plot type is the simple scatter plot, a close cousin of the line plot. Instead of points being joined by line segments, here the points are represented individually with a dot, circle, or other shape. We’ll start by setting up the notebook for plotting and importing the functions that we use:

In [ ]:
plt.style.use('seaborn-whitegrid')
Scatter Plots with plt.plot
In the previous section we looked at plt.plot/ax.plot to produce line plots. It turns out that this same function can produce scatter plots as well:

In [ ]:
x = np.linspace(1, 10, 50)
y = np.log(x)

plt.plot(x, y, 'o-', color='green')
Out[ ]:
[<matplotlib.lines.Line2D at 0x7fa1a15ec110>]

For even more possibilities, these character codes can be used together with line and color codes to plot points along with a line connecting them:

In [ ]:
plt.plot(x, y, '-or');

Additional keyword arguments to plt.plot specify a wide range of properties of the lines and markers:

Scatter Plots with plt.scatter
A second, more powerful method of creating scatter plots is the plt.scatter function, which can be used very similarly to the plt.plot function:

In [ ]:
plt.scatter(x, y, marker='o')

The primary difference of plt.scatter from plt.plot is that it can be used to create scatter plots where the properties of each individual point (size, face color, edge color, etc.) can be individually controlled or mapped to data.

Let's show this by creating a random scatter plot with points of many colors and sizes. In order to better see the overlapping results, we'll also use the alpha keyword to adjust the transparency level:

In [ ]:
rng = np.random.RandomState(7)
x = rng.randn(100)
y = rng.randn(100)
colors = rng.rand(100)
sizes = 1000 * rng.rand(100)

plt.scatter(x, y, c=colors, s=sizes, alpha=0.5,
            cmap='Reds')
plt.colorbar()  # show color scale
Out[ ]:
<matplotlib.colorbar.Colorbar at 0x7fa1a0e0a690>

Notice that the color argument is automatically mapped to a color scale (shown here by the colorbar() command), and that the size argument is given in pixels. This way, the color and size of points can be used to convey information through visualization, in order to visualize multidimensional data.

For example, we might use the Iris data from Scikit-Learn, where each sample is one of three types of flowers that has had the size of its petals and sepals carefully measured:

plot Versus scatter: A Note on Efficiency
Apart from the different features available in plt.plot and plt.scatter, why one might you choose to use one over the other? While it doesn't matter much for small amounts of data, as datasets get larger than a few thousand points, plt.plot can be noticeably more efficient than plt.scatter. The reason is that plt.scatter has the capability to render different size and/or color for each point, so the renderer must do the extra work of constructing each point individually. In plt.plot, on the other hand, the points are always essentially clones of each other, so the work of determining the appearance of the points is done only once for the entire set of data. For large datasets, the difference between these two can lead to vastly different performance, and for this reason, plt.plot should be preferred over plt.scatter for large datasets.

Visualizing Errors
For any scientific measurement, accurate accounting of errors is nearly as important, if not more important, than accurate reporting of the number itself. For example, imagine that I am using some astrophysical observations to estimate the Hubble Constant, the local measurement of the expansion rate of the Universe. I know that the current literature suggests a value of around 71 (km/s)/Mpc, and I measure a value of 74 (km/s)/Mpc with my method. Are the values consistent? The only correct answer, given in this information, is this: there is no way to know.

Suppose I augment this information with reported uncertainties: the current literature suggests a value of around 71 $\pm$ 2.5 (km/s)/Mpc, and my method has measured a value of 74 $\pm$ 5 (km/s)/Mpc. Now are the values consistent? That is a question that can be quantitatively answered.

In visualization of data and results, showing these errors effectively can make a plot convey much more complete information.

Errorbars
A basic errorbar can be created with a single Matplotlib function call:

In [ ]:
x = np.linspace(0, 10, 100)
dy = 0.1
y = np.sin(x) + dy * np.random.randn(100)

plt.errorbar(x, y, yerr=dy, fmt='.b');

In addition to these basic options, the errorbar function has many options to fine-tune the outputs. Using these additional options you can easily customize the aesthetics of your errorbar plot. I often find it helpful, especially in crowded plots, to make the errorbars lighter than the points themselves:

Histograms
A simple histogram can be a great first step in understanding a dataset.

In [ ]:
plt.style.use('seaborn-white')

data = np.random.randn(10000)
print(data)
[ 1.20715804 -0.39492368 -0.06495431 ...  1.64479283 -0.7602335
 -0.4876548 ]
In [ ]:
plt.hist(data)
Out[ ]:
(array([   4.,   45.,  344., 1273., 2580., 3031., 1901.,  676.,  125.,
          21.]),
 array([-4.13873727, -3.3460378 , -2.55333833, -1.76063886, -0.96793939,
        -0.17523991,  0.61745956,  1.41015903,  2.2028585 ,  2.99555797,
         3.78825744]),
 <a list of 10 Patch objects>)

The hist() function has many options to tune both the calculation and the display; Here's an example of a more customized histogram:

In [ ]:
plt.hist(data, bins=5, normed=True, alpha=0.6,
         histtype='stepfilled')
/Users/rayan/opt/anaconda3/lib/python3.7/site-packages/ipykernel_launcher.py:2: MatplotlibDeprecationWarning: 
The 'normed' kwarg was deprecated in Matplotlib 2.1 and will be removed in 3.1. Use 'density' instead.
  
Out[ ]:
(array([0.0030907 , 0.10199326, 0.35391723, 0.16254584, 0.00920904]),
 array([-4.13873727, -2.55333833, -0.96793939,  0.61745956,  2.2028585 ,
         3.78825744]),
 <a list of 1 Patch objects>)

The plt.hist docstring has more information on other customization options available. I find this combination of histtype='stepfilled' along with some transparency alpha to be very useful when comparing histograms of several distributions:

In [ ]:
x = np.random.normal(0, 0.8, 1000)
y = np.random.normal(-2, 1, 1000)

kwargs = dict(histtype='stepfilled', alpha=0.5, normed=True, bins=50)

plt.hist(x, **kwargs)
plt.hist(y, **kwargs)
/Users/rayan/opt/anaconda3/lib/python3.7/site-packages/ipykernel_launcher.py:6: MatplotlibDeprecationWarning: 
The 'normed' kwarg was deprecated in Matplotlib 2.1 and will be removed in 3.1. Use 'density' instead.
  
/Users/rayan/opt/anaconda3/lib/python3.7/site-packages/ipykernel_launcher.py:7: MatplotlibDeprecationWarning: 
The 'normed' kwarg was deprecated in Matplotlib 2.1 and will be removed in 3.1. Use 'density' instead.
  import sys
Out[ ]:
(array([0.00760312, 0.        , 0.        , 0.01520623, 0.01520623,
        0.00760312, 0.        , 0.        , 0.02280935, 0.01520623,
        0.03801558, 0.0456187 , 0.05322182, 0.07603117, 0.10644364,
        0.14445922, 0.15966546, 0.30412468, 0.24329974, 0.26610909,
        0.28891845, 0.3573465 , 0.33453715, 0.38015585, 0.45618702,
        0.39536208, 0.38775897, 0.41817143, 0.41056832, 0.31933091,
        0.28131533, 0.3117278 , 0.28891845, 0.22809351, 0.17487169,
        0.22809351, 0.15966546, 0.13685611, 0.09884052, 0.08363429,
        0.0912374 , 0.06082494, 0.01520623, 0.0456187 , 0.03041247,
        0.03041247, 0.03041247, 0.01520623, 0.01520623, 0.00760312]),
 array([-5.5448787 , -5.4133537 , -5.28182869, -5.15030369, -5.01877868,
        -4.88725368, -4.75572867, -4.62420367, -4.49267866, -4.36115366,
        -4.22962865, -4.09810365, -3.96657864, -3.83505364, -3.70352863,
        -3.57200363, -3.44047862, -3.30895362, -3.17742861, -3.04590361,
        -2.9143786 , -2.7828536 , -2.65132859, -2.51980359, -2.38827858,
        -2.25675358, -2.12522857, -1.99370357, -1.86217856, -1.73065356,
        -1.59912855, -1.46760355, -1.33607854, -1.20455354, -1.07302853,
        -0.94150353, -0.80997852, -0.67845352, -0.54692851, -0.41540351,
        -0.2838785 , -0.1523535 , -0.02082849,  0.11069651,  0.24222152,
         0.37374652,  0.50527153,  0.63679653,  0.76832154,  0.89984654,
         1.03137155]),
 <a list of 1 Patch objects>)

If you would like to simply compute the histogram (that is, count the number of points in a given bin) and not display it, the np.histogram() function is available:

In [ ]:
counts, bin_edges = np.histogram(data, bins=5)
print(counts)
[  49 1617 5611 2577  146]
Two-Dimensional Histograms
Just as we create histograms in one dimension by dividing the number-line into bins, we can also create histograms in two-dimensions by dividing points among two-dimensional bins. We'll take a brief look at several ways to do this here. We'll start by defining some data—an x and y array drawn from a multivariate Gaussian distribution:

In [ ]:
mean = [5, 2]
cov = [[3, 1], [2, 0.5]]
x, y = np.random.multivariate_normal(mean, cov, 10000)
/Users/rayan/opt/anaconda3/lib/python3.7/site-packages/ipykernel_launcher.py:3: RuntimeWarning: covariance is not positive-semidefinite.
  This is separate from the ipykernel package so we can avoid doing imports until
---------------------------------------------------------------------------
ValueError                                Traceback (most recent call last)
<ipython-input-67-a996c6d7367d> in <module>
      1 mean = [5, 2]
      2 cov = [[3, 1], [2, 0.5]]
----> 3 x, y = np.random.multivariate_normal(mean, cov, 10000)

ValueError: too many values to unpack (expected 2)
plt.hist2d: Two-dimensional histogram
One straightforward way to plot a two-dimensional histogram is to use Matplotlib's plt.hist2d function:

In [ ]:
plt.hist2d(x, y, bins=20, cmap='Reds')
cb = plt.colorbar()

plt.hexbin: Hexagonal binnings
The two-dimensional histogram creates a tesselation of squares across the axes. Another natural shape for such a tesselation is the regular hexagon. For this purpose, Matplotlib provides the plt.hexbin routine, which will represents a two-dimensional dataset binned within a grid of hexagons:

In [ ]:
plt.hexbin(x, y, gridsize=20, cmap='Reds')

cb = plt.colorbar()
plt.hexbin has a number of interesting options, including the ability to specify weights for each point, and to change the output in each bin to any NumPy aggregate (mean of weights, standard deviation of weights, etc.).

In [ ]:
