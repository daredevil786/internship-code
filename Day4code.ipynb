
Object Oriented Programming and File I/O
Object Oriented Programming (OOP) is a programming paradigm that allows abstraction through the concept of interacting entities. This programming works contradictory to conventional model and is procedural, in which programs are organized as a sequence of commands or statements to perform.

We can think an object as an entity that resides in memory, has a state and it's able to perform some actions.

More formally objects are entities that represent instances of a general abstract concept called class. In Python, "attributes" are the variables defining an object state and the possible actions are called "methods".

In Python, everything is an object also classes and functions.

1 How to define classes
1.1 Creating a class
Suppose we want to create a class, named Person, as a prototype, a sort of template for any number of 'Person' objects (instances).

The following python syntax defines a class:

class ClassName(base_classes):
    statements
Class names should always be uppercase (it's a naming convention).

Say we need to model a Person as:

Name
Surname
Age
In [ ]:
class Person:
    pass

john_doe = Person()
john_doe.name = "Alec"
john_doe.surname = "Baldwin"
john_doe.year_of_birth = 1958


print(john_doe)
print("%s %s was born in %d." %
      (john_doe.name, john_doe.surname, john_doe.year_of_birth))
<__main__.Person object at 0x1088e6dd0>
Alec Baldwin was born in 1958.
The following example defines an empty class (i.e. the class doesn't have a state) called Person then creates a Person instance called _johndoe and adds three attributes to _johndoe. We see that we can access objects attributes using the "dot" operator.

This isn't a recommended style because classes should describe homogeneous entities. A way to do so is the following:

In [ ]:
class Person:
    def __init__(self, name, surname, year_of_birth):
        self.name = name
        self.surname = surname
        self.year_of_birth = year_of_birth
__init__(self, ...)
Is a special Python method that is automatically called after an object construction. Its purpose is to initialize every object state. The first argument (by convention) self is automatically passed either and refers to the object itself.

In the preceding example, __init__ adds three attributes to every object that is instantiated. So the class is actually describing each object's state.

We cannot directly manipulate any class rather we need to create an instance of the class:

In [ ]:
alec = Person("Alec", "Baldwin", 1958)
print(alec)
print("%s %s was born in %d"% (alec.name,alec.surname,alec.year_of_birth))
<__main__.Person object at 0x10890c6d0>
Alec Baldwin was born in 1958
We have just created an instance of the Person class, bound to the variable alec.

1.2 Methods
In [ ]:
class Person:
    def __init__(self, name, surname, year_of_birth):
        self.name = name
        self.surname = surname
        self.year_of_birth = year_of_birth
    
    def age(self, current_year):
        return current_year - self.year_of_birth
    
    def __str__(self):
        return "%s %s was born in %d ." % (self.name, self.surname, self.year_of_birth)
    
alec = Person("Alec", "Baldwin", 1958)
print(alec)
print(alec.age(2019))
Alec Baldwin was born in 1958 .
61
In [ ]:

We defined two more methods age and __str__. The latter is once again a special method that is called by Python when the object has to be represented as a string (e.g. when has to be printed). If the __str__ method isn't defined the print command shows the type of object and its address in memory. We can see that in order to call a method we use the same syntax for attributes (instance_name.instance _method).

2 Inheritance
Once a class is defined it models a concept. It is useful to extend a class behavior to model a less general concept. Say we need to model a Student, but we know that every student is also a Person so we shouldn't model the Person again but inherit from it instead.

In [ ]:
class Student(Person):
    def __init__(self, student_id, *args, **kwargs):
        super(Student, self).__init__(*args, **kwargs)
        self._student_id = student_id
        
charlie = Student(1, 'Charlie', 'Brown', 2006)
print(charlie)
print(type(charlie))
print(isinstance(charlie, Person))
print(isinstance(charlie, object))
Charlie Brown was born in 2006 .
<class '__main__.Student'>
True
True
Charlie now has the same behavior of a Person, but his state has also a student ID. A Person is one of the base classes of Student and Student is one of the sub classes of Person. Be aware that a subclass knows about its superclasses but the converse isn't true.

A sub class doesn't only inherits from its base classes, but from its base classes too, forming an inheritance tree that starts from a object (every class base class).

super(Class, instance)

is a function that returns a proxy-object that delegates method calls to a parent or sibling class of type. So we used it to access Person's __init__.

2.1 Overriding methods
Inheritance allows to add new methods to a subclass but often is useful to change the behavior of a method defined in the superclass. To override a method just define it again.

In [ ]:
class Student(Person):
    def __init__(self, student_id, *args, **kwargs):
        super(Student, self).__init__(*args, **kwargs)
        self._student_id = student_id
        
    def __str__(self):
        return super(Student, self).__str__() + " And has ID: %d" % self._student_id
        
charlie = Student(1, 'Charlie', 'Brown', 2006)
print(charlie)
Charlie Brown was born in 2006 . And has ID: 1
We defined __str__ again overriding the one wrote in Person, but we wanted to extend it, so we used super to achieve our goal.

3 Encapsulation
Encapsulation is an another powerful way to extend a class which consists on wrapping an object with a second one. There are two main reasons to use encapsulation:

Composition
Dynamic Extension
3.1 Composition
The abstraction process relies on creating a simplified model that remove useless details from a concept. In order to be simplified, a model should be described in terms of other simpler concepts. For example, we can say that a car is composed by:

Tyres
Engine
Body
And break down each one of these elements in simpler parts until we reach primitive data.

4 Polymorphism and DuckTyping
Python uses dynamic typing which is also called as duck typing. If an object implements a method you can use it, irrespective of the type. This is different from statically typed languages, where the type of a construct need to be explicitly declared. Polymorphism is the ability to use the same syntax for objects of different types:

In [ ]:
def summer(a, b):
    return a + b

print(summer(1, 1))
print(summer(["a", "b", "c"], ["d", "e"]))
print(summer("abra", "cadabra"))
2
['a', 'b', 'c', 'd', 'e']
abracadabra
5 How long does a class should be?
There is an Object Oriented Programming (OOP) principle called Single Responsibility Principle (SRP) and it states: "A class should have one single responsibility" or "A class should have only one reason to change".

If you come across a class which doesn't follow the SRP principle, you should spilt it. You will be grateful to SRP during your software maintenance.

Files
Python uses file objects to interact with the external files on your computer. These file objects cab be of any file format on your computer i.e. can be an audio file, a text file, emails, Excel documents, etc. Note that You will probably need to install certain libraries or modules to interact with those various file types, but they are easily available. (We will cover downloading modules later on in the course).

Python has a built-in open function that allows us to open and play with basic file types. First we will need a file though. We're going to use some iPython magic to create a text file!

iPython Writing a File
In [ ]:
%%writefile superman.txt
Hello, this is a quick superman test file
Overwriting superman.txt
Python Opening a file
We can open a file with the open() function. This function also takes in arguments (also called parameters). Let's see how this is used:

In [ ]:
# Open the text.txt we made earlier
my_file = open('superman.txt')
In [ ]:
# We can now read the file
my_file.read()
Out[ ]:
'Hello, this is a quick superman test file\n'
In [ ]:
# But what happens if we try to read it again?
my_file.read()
Out[ ]:
''
This happens because you can imagine the reading "cursor" is at the end of the file after having read it. So there is nothing left to read. We can reset the "cursor" like this:

In [ ]:
# Seek to the start of file (index 0)
my_file.seek(0)
Out[ ]:
0
In [ ]:
# Now read again
my_file.read()
Out[ ]:
'Hello, this is a quick superman test file\n'
In order to not have to reset every time, we can also use the readlines method. Use caution with large files, since everything will be held in memory. We will learn how to iterate over large files later in the course.

In [ ]:
# Seek to the start of file (index 0)
my_file.seek(0)
Out[ ]:
0
In [ ]:
# Readlines returns a list of the lines in the file.
my_file.readlines()
Out[ ]:
['Hello, this is a quick superman test file\n']
Writing to a File
By default, using the open() function will only allow us to read the file, we need to pass the argument 'w' to write over the file. For example:

In [ ]:
# Add the second argument to the function, 'w' which stands for write
my_file = open('superman.txt','w+')
In [ ]:
# Write to the file
my_file.write('This is a new line')
Out[ ]:
18
In [ ]:
# Seek to the start of file (index 0)
my_file.seek(0)
Out[ ]:
0
In [ ]:
# Read the file
my_file.read()
Out[ ]:
'This is a new line'
Iterating through a File
Let's get a quick preview of a for loop by iterating over a text file. First, let's make a new text file with some iPython Magic:

In [ ]:
%%writefile test.txt
First Line
Second Line
Writing test.txt
Now we can use a little bit of flow to tell the program to for through every line of the file and do something:

In [ ]:
for line in open('test.txt'):
    print(line)
First Line

Second Line

In [ ]:
# Pertaining to the first point above
for asdf in open('test.txt'):
    print(asdf)
First Line

Second Line

StringIO
The StringIO module implements an in-memory filelike object. This object can then be used as input or output to most functions that would expect a standard file object.

The best way to show this is by example:

In [ ]:
from io import StringIO
In [ ]:
# Arbitrary String
message = 'This is just a normal string.'
In [ ]:
# Use StringIO method to set as file object
f = StringIO(message)
Now we have an object f that we will be able to treat just like a file. For example:

In [ ]:
f.read()
Out[ ]:
'This is just a normal string.'
We can also write to it

In [ ]:
f.write(' Second line written to file like object')
Out[ ]:
40
In [ ]:
# Reset cursor just like you would a file
f.seek(0)
Out[ ]:
0
In [ ]:
# Read again
f.read()
Out[ ]:
'This is just a normal string. Second line written to file like object'
In [ ]:
