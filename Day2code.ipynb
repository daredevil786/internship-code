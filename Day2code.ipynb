
Session 2 - Strings and list objects
Strings
Strings are used to record the text information such as name. In Python, Strings act as “Sequence” which means Python tracks every element in the String as a sequence. This is one of the important features of the Python language.

For example, Python understands the string "hello' to be a sequence of letters in a specific order which means the indexing technique to grab particular letters (like first letter or the last letter).

Creating a String
In Python, either single quote (‘) or double quotes (“) must be used while creating a string.

For example:
In [ ]:
# Single word
str = 'hello'
str
In [ ]:
# Entire phrase 
'This is also a string'
In [ ]:
# We can also use double quote
"String built with double quotes"
In [ ]:
# Be careful with quotes!
'I'm using single quotes, but will create an error'
  File "<ipython-input-1-49dde7729f25>", line 2
    'I'm using single quotes, but will create an error'
       ^
SyntaxError: invalid syntax
The above code results in an error as the text “I’m” stops the string. Here, a combination of single quotes and double quotes can be used to get the complete statement.

In [ ]:
"Now I'm ready to use the single quotes inside a string!"
Out[ ]:
"Now I'm ready to use the single quotes inside a string!"
Now let's learn about printing strings!

Printing a String
We can automatically display the output strings using Jupyter notebook with just a string in a cell. But,the correct way to display strings in your output is by using a print function.

In [ ]:
# We can simply declare a string
'Hello World'
Out[ ]:
'Hello World'
In [ ]:
# note that we can't output multiple strings this way
'Hello World 1'
'Hello World 2'
Hello World 1
Out[ ]:
'Hello World 2'
In Python 2, the output of the below code snippet is displayed using "print" statement as shown in the below syntax but the same syntax will throw error in Python 3.

In [ ]:
print 'Hello World 1'
print 'Hello World 2'
print 'Use \n to print a new line'
print '\n'
print 'See what I mean?'
  File "<ipython-input-7-3c2f3251395a>", line 1
    print 'Hello World 1'
                        ^
SyntaxError: Missing parentheses in call to 'print'. Did you mean print('Hello World 1')?
Note that, In Python 3, print is a function and not a statement. So you would print statements like this: print('Hello World')

If you want to use this functionality in Python2, you can import form the future module.

Caution: After importing this; you won't be able to choose the print statement method anymore. So pick the right one whichever you prefer depending on your Python installation and continue on with it.

In [ ]:
# To use print function from Python 3 in Python 2
from __future__ import print_function

print 'Hello World'
  File "<ipython-input-8-ccac5adbb6ce>", line 4
    print 'Hello World'
                      ^
SyntaxError: Missing parentheses in call to 'print'. Did you mean print('Hello World')?
String Basics
In Strings, the length of the string can be found out by using a function called len().

In [ ]:
len('Hello World')
Out[ ]:
11
String Indexing
We know strings are a sequence, which means Python can use indexes to call all the sequence parts. Let's learn how String Indexing works. • We use brackets [] after an object to call its index. • We should also note that indexing starts at 0 for Python. Now, Let's create a new object called s and the walk through a few examples of indexing.

In [ ]:
# Assign s as a string
s = 'Hello World'
In [ ]:
#Check
s
Out[ ]:
'Hello World'
In [ ]:
# Print the object
print(s)
Hello World
Let's start indexing!

In [ ]:
# Show first element (in this case a letter)
s[0]
Out[ ]:
'H'
In [ ]:
s[1]
Out[ ]:
'e'
In [ ]:
s[2]
Out[ ]:
'l'
We can use a : to perform slicing which grabs everything up to a designated point. For example:

In [ ]:
# Grab everything past the first term all the way to the length of s which is len(s)
s[1:]
Out[ ]:
'ello World'
In [ ]:
# Note that there is no change to the original s
s
Out[ ]:
'Hello World'
In [ ]:
# Grab everything UP TO the 3rd index
s[:3]
Out[ ]:
'Hel'
Note the above slicing. Here we're telling Python to grab everything from 0 up to 3. It doesn't include the 3rd index. You'll notice this a lot in Python, where statements and are usually in the context of "up to, but not including".

In [ ]:
#Everything
s[:]
Out[ ]:
'Hello World'
We can also use negative indexing to go backwards.

In [ ]:
# Last letter (one index behind 0 so it loops back around)
s[-1]
Out[ ]:
'd'
In [ ]:
# Grab everything but the last letter
s[:-1]
Out[ ]:
'Hello Worl'
Index and slice notation is used to grab elements of a sequenec by a specified step size (where in 1 is the default size). For instance we can use two colons in a row and then a number specifying the frequency to grab elements. For example:

In [ ]:
# Grab everything, but go in steps size of 1
s[::1]
Out[ ]:
'Hello World'
In [ ]:
# Grab everything, but go in step sizes of 2
s[::2]
Out[ ]:
'HloWrd'
In [ ]:
# We can use this to print a string backwards
s[::-1]
Out[ ]:
'dlroW olleH'
String Properties
Immutability is one the finest string property whichh is created once and the elements within it cannot be changed or replaced. For example:

In [ ]:
s
Out[ ]:
'Hello World'
In [ ]:
# Let's try to change the first letter to 'x'
s[0] = 'x'
---------------------------------------------------------------------------
TypeError                                 Traceback (most recent call last)
<ipython-input-29-976942677f11> in <module>
      1 # Let's try to change the first letter to 'x'
----> 2 s[0] = 'x'

TypeError: 'str' object does not support item assignment
Notice how the error tells us directly what we can't do, change the item assignment!

Something we can do is concatenate strings!

In [ ]:
s
Out[ ]:
'Hello World'
In [ ]:
# Concatenate strings!
s + ' concatenate me!'
Out[ ]:
'Hello World concatenate me!'
In [ ]:
# We can reassign s completely though!
s = s + ' concatenate me!'
In [ ]:
print(s)
Hello World concatenate me!
In [ ]:
s
Out[ ]:
'Hello World concatenate me!'
We can use the multiplication symbol to create repetition!

In [ ]:
letter = 'z'
In [ ]:
letter*10
Out[ ]:
'zzzzzzzzzz'
Basic Built-in String methods
In Python, Objects have built-in methods which means these methods are functions present inside the object (we will learn about these in much more depth later) that can perform actions or commands on the object itself.

Methods can be called with a period followed by the method name. Methods are in the form:

object.method(parameters)

Where parameters are extra arguments which are passed into the method. Right now, it is not necessary to make 100% sense but going forward we will create our own objects and functions.

Here are some examples of built-in methods in strings:

In [ ]:
s
Out[ ]:
'Hello World concatenate me!'
In [ ]:
# Upper Case a string
s.upper()
Out[ ]:
'HELLO WORLD CONCATENATE ME!'
In [ ]:
# Lower case
s.lower()
Out[ ]:
'hello world concatenate me!'
In [ ]:
# Split a string by blank space (this is the default)
s.split()
Out[ ]:
['Hello', 'World', 'concatenate', 'me!']
In [ ]:
# Split by a specific element (doesn't include the element that was split on)
s.split('o')
Out[ ]:
['Hell', ' W', 'rld c', 'ncatenate me!']
There are many more methods than the ones covered here. To know more about the String functions, Visit the advanced String section.

Print Formatting
Print Formatting ".format()" method is used to add formatted objects to the printed string statements.

Let's see an example to clearly understand the concept.

In [ ]:
'Insert another string with curly brackets:{}'.format({'The inserted string'})
Out[ ]:
"Insert another string with curly brackets:{'The inserted string'}"
Location and Counting
In [ ]:
print(s)
s.count('o')
Hello World concatenate me!
Out[ ]:
3
In [ ]:
s.find('o')
Out[ ]:
4
Formatting
The center() method allows you to place your string 'centered' between a provided string with a certain length.

In [ ]:
s.center(60,'z')
Out[ ]:
'zzzzzzzzzzzzzzzzHello World concatenate me!zzzzzzzzzzzzzzzzz'
expandtabs() will expand tab notations \t into spaces. Let's see an example to understand the concept.

In [ ]:
'hello\thi'.expandtabs()
Out[ ]:
'hello   hi'
is check methods
These various methods below check it the string is some case. Lets explore them:

In [ ]:
s = 'hello'
isalnum() will return "True" if all characters in S are alphanumeric.

In [ ]:
s.isalnum()
Out[ ]:
True
isalpha() wil return "True" if all characters in S are alphabetic.

In [ ]:
s.isalpha()
Out[ ]:
True
islower() will return "True" if all cased characters in S are lowercase and there is at least one cased character in S, False otherwise.

In [ ]:
s.islower()
Out[ ]:
True
isspace() will return "True" if all characters in S are whitespace.

In [ ]:
s.isspace()
Out[ ]:
False
istitle() will return "True" if S is a title cased string and there is at least one character in S, i.e. uppercase characters may only follow uncased characters and lowercase characters only cased ones. Return False otherwise.

In [ ]:
s.istitle()
Out[ ]:
False
isupper() will return "True" if all cased characters in S are uppercase and there is at least one cased character in S, False otherwise.

In [ ]:
s.isupper()
Out[ ]:
False
Another method is endswith() which is essentially same as a boolean check on s[-1]

In [ ]:
s.endswith('o')
Out[ ]:
True
Built-in Reg. Expressions
In Strings, there are some built-in methods which is similar to regular expression operations. • Split() function is used to split the string at a certain element and return a list of the result. • Partition is used to return a tuple that includes the separator (the first occurrence), the first half and the end half.

In [ ]:
s.split('e')
Out[ ]:
['h', 'llo']
In [ ]:
s.partition('e')
Out[ ]:
('h', 'e', 'llo')
In [ ]:
s
Out[ ]:
'hello'
Lists
Earlier, while discussing introduction to strings we have introduced the concept of a sequence in Python. In Python, Lists can be considered as the most general version of a "sequence". Unlike strings, they are mutable which means the elements inside a list can be changed!

Lists are constructed with brackets [] and commas separating every element in the list.

Let's go ahead and see how we can construct lists!

In [ ]:
# Assign a list to an variable named my_list
my_list = [1,2,3]
We just created a list of integers, but lists can actually hold different object types. For example:

In [ ]:
my_list = ['A string',23,100.232,'o']
my_list
Out[ ]:
['A string', 23, 100.232, 'o']
Just like strings, the len() function will tell you how many items are in the sequence of the list.

In [ ]:
len(my_list)
Out[ ]:
4
Indexing and Slicing
Indexing and slicing of lists works just like in Strings. Let's make a new list to remind ourselves of how this works:

In [ ]:
my_list = ['one','two','three',4,5]
In [ ]:
# Grab element at index 0
my_list[0]
Out[ ]:
'one'
In [ ]:
# Grab index 1 and everything past it
my_list[1:]
Out[ ]:
['two', 'three', 4, 5]
In [ ]:
# Grab everything UP TO index 3
my_list[:3]
Out[ ]:
['one', 'two', 'three']
We can also use "+" to concatenate lists, just like we did for Strings.

In [ ]:
my_list + ['new item']
Out[ ]:
['one', 'two', 'three', 4, 5, 'new item']
Note: This doesn't actually change the original list!

In [ ]:
my_list
Out[ ]:
['one', 'two', 'three', 4, 5]
In this case, you have to reassign the list to make the permanent change.

In [ ]:
# Reassign
my_list = my_list + ['add new item permanently']
In [ ]:
my_list
Out[ ]:
['one', 'two', 'three', 4, 5, 'add new item permanently']
We can also use the * for a duplication method similar to strings:

In [ ]:
# Make the list double
my_list * 2
In [ ]:
# Again doubling not permanent
my_list
Out[ ]:
['one',
 'two',
 'three',
 4,
 5,
 'add new item permanently',
 'one',
 'two',
 'three',
 4,
 5,
 'add new item permanently']
Basic List Methods
If you are familiar with another programming language, start to draw parallels between lists in Python and arrays in other language. There are two reasons which tells why the lists in Python are more flexible than arrays in other programming language:

a. They have no fixed size (which means we need not to specify how big the list will be) b. They have no fixed type constraint

Let's go ahead and explore some more special methods for lists:

In [ ]:
# Create a new list
l = [1,2,3]
Use the append method to permanently add an item to the end of a list:

In [ ]:
# Append
l.append('append me!')
In [ ]:
# Show
l
Out[ ]:
[1, 2, 3, 'append me!']
Use pop to "pop off" an item from the list. By default pop takes off the last index, but you can also specify which index to pop off. Let's see an example:

In [ ]:
# Pop off the 0 indexed item
l.pop(0)
Out[ ]:
1
In [ ]:
# Show
l
Out[ ]:
[2, 3, 'append me!']
In [ ]:
# Assign the popped element, remember default popped index is -1
popped_item = l.pop()
In [ ]:
popped_item
Out[ ]:
'append me!'
In [ ]:
# Show remaining list
l
Out[ ]:
[2, 3]
Note that lists indexing will return an error if there is no element at that index. For example:

In [ ]:
l[100]
---------------------------------------------------------------------------
IndexError                                Traceback (most recent call last)
<ipython-input-89-e2a0c2623844> in <module>
----> 1 l[100]

IndexError: list index out of range
We can use the sort method and the reverse methods to also effect your lists:

In [ ]:
new_list = ['a','e','x','b','c']
In [ ]:
#Show
new_list
Out[ ]:
['a', 'e', 'x', 'b', 'c']
In [ ]:
# Use reverse to reverse order (this is permanent!)
new_list.reverse()
In [ ]:
new_list
Out[ ]:
['c', 'b', 'x', 'e', 'a']
In [ ]:
# Use sort to sort the list (in this case alphabetical order, but for numbers it will go ascending)
new_list.sort()
In [ ]:
new_list
Out[ ]:
['a', 'b', 'c', 'e', 'x']
Nesting Lists
Nesting Lists is one of the great features in Python data structures. Nesting Lists means we can have data structures within data structures.

For example: A list inside a list.

Let's see how Nesting lists works!

In [ ]:
# Let's make three lists
lst_1=[1,2,3]
lst_2=[4,5,6]
lst_3=[7,8,9]

# Make a list of lists to form a matrix
matrix = [lst_1,lst_2,lst_3]
In [ ]:
# Show
matrix
Out[ ]:
[[1, 2, 3], [4, 5, 6], [7, 8, 9]]
We can re-use indexing to grab elements, but now there are two levels for the index.

a. The items in the matrix object b. The items inside the list

In [ ]:
# Grab first item in matrix object
matrix[0]
Out[ ]:
[1, 2, 3]
In [ ]:
# Grab first item of the first item in the matrix object
matrix[1][1]
Out[ ]:
5
List Comprehensions
Python has an advanced feature called list comprehensions which allows for quick construction of lists.

Before we try to understand list comprehensions completely we need to understand "for" loops.

So don't worry if you don't completely understand this section, and feel free to just skip it since we will return to this topic later.

Here are few of oue examples which helps you to understand list comprehensions.

In [ ]:
# Build a list comprehension by deconstructing a for loop within a []
first_col = [row[2] for row in matrix]
In [ ]:
first_col
Out[ ]:
[3, 6, 9]
Advanced Lists
In this series of lectures, we will be diving a little deeper into all the available methods in a list object. These are just methods that should encountered without some additional exploring. Its pretty likely that you've already encountered some of these yourself!

Lets begin!

In [ ]:
l = [1,2,3]
append
Definitely, You have used this method by now, which merely appends an element to the end of a list:

In [ ]:
l.append(4)

l
Out[ ]:
[1, 2, 3, 4]
count
We discussed this during the methods lectures, but here it is again. count() takes in an element and returns the number of times it occures in your list:

In [ ]:
l.count(10)
Out[ ]:
0
In [ ]:
l.count(2)
Out[ ]:
1
extend
Many times people find the difference between extend and append to be unclear. So note that,

append: Appends object at end

In [ ]:
x = [1, 2, 3]
x.append([4, 5])
print(x)
[1, 2, 3, [4, 5]]
extend: extends list by appending elements from the iterable

In [ ]:
x = [1, 2, 3]
x.extend([4, 5])
print(x)
[1, 2, 3, 4, 5]
Note how extend append each element in that iterable. That is the key difference.

index
index returns the element placed as an argument. Make a note that if the element is not in the list then it returns an error.

In [ ]:
print(l)
l.index(2)
[1, 2, 3, 4]
Out[ ]:
1
In [ ]:
l.index(12)
---------------------------------------------------------------------------
ValueError                                Traceback (most recent call last)
<ipython-input-112-da9218b18168> in <module>
----> 1 l.index(12)

ValueError: 12 is not in list
insert
Two arguments can be placed in insert method.

Syntax: insert(index,object)

This method places the object at the index supplied. For example:

In [ ]:
l
Out[ ]:
[1, 2, 3]
In [ ]:
# Place a letter at the index 2
l.insert(2,'inserted')
In [ ]:
l
Out[ ]:
[1, 2, 'inserted', 3]
pop
You most likely have already seen pop(), which allows us to "pop" off the last element of a list.

In [ ]:
ele = l.pop()
In [ ]:
l
Out[ ]:
[1, 2, 'inserted']
In [ ]:
ele
Out[ ]:
3
remove
The remove() method removes the first occurrence of a value. For example:

In [ ]:
l
Out[ ]:
[1, 2, 'inserted']
In [ ]:
l.remove('inserted')
In [ ]:
l
Out[ ]:
[1, 2]
In [ ]:
l = [1,2,3,4,3]
In [ ]:
l.remove(3)
In [ ]:
l
Out[ ]:
[1, 2, 4, 3]
reverse
As the name suggests, reverse() helps you to reverse a list. Note this occurs in place! Meaning it effects your list permanently.

In [ ]:
l.reverse()
In [ ]:
l
Out[ ]:
[3, 4, 2, 1]
sort
sort will sort your list in place:

In [ ]:
l
Out[ ]:
[3, 4, 2, 1]
In [ ]:
l.sort()
In [ ]:
l
Out[ ]:
[1, 2, 3, 4]
In [ ]:
